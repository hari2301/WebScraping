{
  "nbformat": 4,
  "nbformat_minor": 0,
  "metadata": {
    "colab": {
      "name": "Octoparse_Youtube_scrap_Prep.ipynb",
      "provenance": [],
      "collapsed_sections": [],
      "include_colab_link": true
    },
    "kernelspec": {
      "name": "python3",
      "display_name": "Python 3"
    }
  },
  "cells": [
    {
      "cell_type": "markdown",
      "metadata": {
        "id": "view-in-github",
        "colab_type": "text"
      },
      "source": [
        "<a href=\"https://colab.research.google.com/github/hari2301/WebScraping/blob/main/Octoparse_Youtube_scrap_Prep.ipynb\" target=\"_parent\"><img src=\"https://colab.research.google.com/assets/colab-badge.svg\" alt=\"Open In Colab\"/></a>"
      ]
    },
    {
      "cell_type": "code",
      "metadata": {
        "id": "urilnouz0pUl"
      },
      "source": [
        "import pandas as pd\n",
        "import numpy as np"
      ],
      "execution_count": null,
      "outputs": []
    },
    {
      "cell_type": "code",
      "metadata": {
        "colab": {
          "base_uri": "https://localhost:8080/",
          "height": 210
        },
        "id": "8z6TL5BW08Gq",
        "outputId": "623fc80c-cbce-49be-9d9d-14ded3ba3c4c"
      },
      "source": [
        "#read\n",
        "data=pd.read_csv('/content/data science - YouTube.csv',encoding='latin1')\n",
        "data.head(2)"
      ],
      "execution_count": null,
      "outputs": [
        {
          "output_type": "execute_result",
          "data": {
            "text/html": [
              "<div>\n",
              "<style scoped>\n",
              "    .dataframe tbody tr th:only-of-type {\n",
              "        vertical-align: middle;\n",
              "    }\n",
              "\n",
              "    .dataframe tbody tr th {\n",
              "        vertical-align: top;\n",
              "    }\n",
              "\n",
              "    .dataframe thead th {\n",
              "        text-align: right;\n",
              "    }\n",
              "</style>\n",
              "<table border=\"1\" class=\"dataframe\">\n",
              "  <thead>\n",
              "    <tr style=\"text-align: right;\">\n",
              "      <th></th>\n",
              "      <th>Channel_Name</th>\n",
              "      <th>Title_URL</th>\n",
              "      <th>Image</th>\n",
              "      <th>Subscribers_Count</th>\n",
              "      <th>Videos_count</th>\n",
              "      <th>Unnamed: 5</th>\n",
              "    </tr>\n",
              "  </thead>\n",
              "  <tbody>\n",
              "    <tr>\n",
              "      <th>0</th>\n",
              "      <td>Data Science with Partha</td>\n",
              "      <td>https://www.youtube.com/channel/UC9TEQJ6XTQguu...</td>\n",
              "      <td>https://yt3.ggpht.com/ytc/AAUvwnhSFHkupJi_xQ-A...</td>\n",
              "      <td>48 subscribers</td>\n",
              "      <td>15 videos</td>\n",
              "      <td>48</td>\n",
              "    </tr>\n",
              "    <tr>\n",
              "      <th>1</th>\n",
              "      <td>Division of Computing, Data Science, and Society</td>\n",
              "      <td>https://www.youtube.com/channel/UCYosMoD6e3_RL...</td>\n",
              "      <td>NaN</td>\n",
              "      <td>NaN</td>\n",
              "      <td>61 videos</td>\n",
              "      <td>#VALUE!</td>\n",
              "    </tr>\n",
              "  </tbody>\n",
              "</table>\n",
              "</div>"
            ],
            "text/plain": [
              "                                       Channel_Name  ... Unnamed: 5\n",
              "0                          Data Science with Partha  ...         48\n",
              "1  Division of Computing, Data Science, and Society  ...    #VALUE!\n",
              "\n",
              "[2 rows x 6 columns]"
            ]
          },
          "metadata": {
            "tags": []
          },
          "execution_count": 2
        }
      ]
    },
    {
      "cell_type": "code",
      "metadata": {
        "id": "dra74gyj1EwM"
      },
      "source": [
        "#drop columns\n",
        "data.drop(columns=['Title_URL','Image','Unnamed: 5'],axis=1,inplace=True)"
      ],
      "execution_count": null,
      "outputs": []
    },
    {
      "cell_type": "code",
      "metadata": {
        "colab": {
          "base_uri": "https://localhost:8080/"
        },
        "id": "_8DzlPpN204H",
        "outputId": "22b4b933-f188-4df0-b5f6-6d2dfc0ef149"
      },
      "source": [
        "#check null\n",
        "data.isnull().sum()"
      ],
      "execution_count": null,
      "outputs": [
        {
          "output_type": "execute_result",
          "data": {
            "text/plain": [
              "Channel_Name          0\n",
              "Subscribers_Count    25\n",
              "Videos_count          2\n",
              "dtype: int64"
            ]
          },
          "metadata": {
            "tags": []
          },
          "execution_count": 4
        }
      ]
    },
    {
      "cell_type": "code",
      "metadata": {
        "colab": {
          "base_uri": "https://localhost:8080/"
        },
        "id": "c9vMvOeq3B3M",
        "outputId": "eb16976b-99e7-4331-c223-18d3a8ef86fa"
      },
      "source": [
        "#check shape\n",
        "data.shape"
      ],
      "execution_count": null,
      "outputs": [
        {
          "output_type": "execute_result",
          "data": {
            "text/plain": [
              "(217, 3)"
            ]
          },
          "metadata": {
            "tags": []
          },
          "execution_count": 5
        }
      ]
    },
    {
      "cell_type": "code",
      "metadata": {
        "id": "1AoN3Yh03G8p"
      },
      "source": [
        "#drop null\n",
        "data.dropna(inplace=True)"
      ],
      "execution_count": null,
      "outputs": []
    },
    {
      "cell_type": "code",
      "metadata": {
        "colab": {
          "base_uri": "https://localhost:8080/",
          "height": 402
        },
        "id": "XEEaCNUn3OBu",
        "outputId": "4ffb039c-dd54-45c3-a1c8-a81c459d3633"
      },
      "source": [
        "data"
      ],
      "execution_count": null,
      "outputs": [
        {
          "output_type": "execute_result",
          "data": {
            "text/html": [
              "<div>\n",
              "<style scoped>\n",
              "    .dataframe tbody tr th:only-of-type {\n",
              "        vertical-align: middle;\n",
              "    }\n",
              "\n",
              "    .dataframe tbody tr th {\n",
              "        vertical-align: top;\n",
              "    }\n",
              "\n",
              "    .dataframe thead th {\n",
              "        text-align: right;\n",
              "    }\n",
              "</style>\n",
              "<table border=\"1\" class=\"dataframe\">\n",
              "  <thead>\n",
              "    <tr style=\"text-align: right;\">\n",
              "      <th></th>\n",
              "      <th>Channel_Name</th>\n",
              "      <th>Subscribers_Count</th>\n",
              "      <th>Videos_count</th>\n",
              "    </tr>\n",
              "  </thead>\n",
              "  <tbody>\n",
              "    <tr>\n",
              "      <th>0</th>\n",
              "      <td>Data Science with Partha</td>\n",
              "      <td>48 subscribers</td>\n",
              "      <td>15 videos</td>\n",
              "    </tr>\n",
              "    <tr>\n",
              "      <th>3</th>\n",
              "      <td>ProjectPro - Data Science Projects</td>\n",
              "      <td>399 subscribers</td>\n",
              "      <td>164 videos</td>\n",
              "    </tr>\n",
              "    <tr>\n",
              "      <th>4</th>\n",
              "      <td>DATA SCIENCE SUMMIT EUROPE 2016</td>\n",
              "      <td>185 subscribers</td>\n",
              "      <td>48 videos</td>\n",
              "    </tr>\n",
              "    <tr>\n",
              "      <th>5</th>\n",
              "      <td>Datascience SS</td>\n",
              "      <td>10 subscribers</td>\n",
              "      <td>3 videos</td>\n",
              "    </tr>\n",
              "    <tr>\n",
              "      <th>6</th>\n",
              "      <td>Introduction to Data Analytics</td>\n",
              "      <td>14.4K subscribers</td>\n",
              "      <td>51 videos</td>\n",
              "    </tr>\n",
              "    <tr>\n",
              "      <th>...</th>\n",
              "      <td>...</td>\n",
              "      <td>...</td>\n",
              "      <td>...</td>\n",
              "    </tr>\n",
              "    <tr>\n",
              "      <th>211</th>\n",
              "      <td>edureka!</td>\n",
              "      <td>2.64M subscribers</td>\n",
              "      <td>4,253 videos</td>\n",
              "    </tr>\n",
              "    <tr>\n",
              "      <th>212</th>\n",
              "      <td>360DigiTMG</td>\n",
              "      <td>26.5K subscribers</td>\n",
              "      <td>408 videos</td>\n",
              "    </tr>\n",
              "    <tr>\n",
              "      <th>214</th>\n",
              "      <td>Simplilearn</td>\n",
              "      <td>1.06M subscribers</td>\n",
              "      <td>2,688 videos</td>\n",
              "    </tr>\n",
              "    <tr>\n",
              "      <th>215</th>\n",
              "      <td>ML Trainings</td>\n",
              "      <td>14.2K subscribers</td>\n",
              "      <td>492 videos</td>\n",
              "    </tr>\n",
              "    <tr>\n",
              "      <th>216</th>\n",
              "      <td>HVL Data Science</td>\n",
              "      <td>5 subscribers</td>\n",
              "      <td>1 video</td>\n",
              "    </tr>\n",
              "  </tbody>\n",
              "</table>\n",
              "<p>190 rows × 3 columns</p>\n",
              "</div>"
            ],
            "text/plain": [
              "                           Channel_Name  Subscribers_Count  Videos_count\n",
              "0              Data Science with Partha     48 subscribers     15 videos\n",
              "3    ProjectPro - Data Science Projects    399 subscribers    164 videos\n",
              "4       DATA SCIENCE SUMMIT EUROPE 2016    185 subscribers     48 videos\n",
              "5                        Datascience SS     10 subscribers      3 videos\n",
              "6        Introduction to Data Analytics  14.4K subscribers     51 videos\n",
              "..                                  ...                ...           ...\n",
              "211                            edureka!  2.64M subscribers  4,253 videos\n",
              "212                          360DigiTMG  26.5K subscribers    408 videos\n",
              "214                         Simplilearn  1.06M subscribers  2,688 videos\n",
              "215                        ML Trainings  14.2K subscribers    492 videos\n",
              "216                    HVL Data Science      5 subscribers       1 video\n",
              "\n",
              "[190 rows x 3 columns]"
            ]
          },
          "metadata": {
            "tags": []
          },
          "execution_count": 8
        }
      ]
    },
    {
      "cell_type": "code",
      "metadata": {
        "id": "KfPt0Gpu9KBH"
      },
      "source": [
        "#cut the words\n",
        "data['Subscribers_Count']=data['Subscribers_Count'].str.strip('subscribers')\n",
        "data['Videos_count']=data['Videos_count'].str.strip('videos')"
      ],
      "execution_count": null,
      "outputs": []
    },
    {
      "cell_type": "code",
      "metadata": {
        "id": "Gf-qUmwUBJYd"
      },
      "source": [
        "#change the greek symbols to numbers\n",
        "data['Subscribers_Count']=data['Subscribers_Count'].replace({'K': '*1e3', 'M': '*1e6'}, regex=True).map(pd.eval).astype('int')"
      ],
      "execution_count": null,
      "outputs": []
    },
    {
      "cell_type": "code",
      "metadata": {
        "colab": {
          "base_uri": "https://localhost:8080/",
          "height": 402
        },
        "id": "zGwU1SpLGga1",
        "outputId": "a5078ee7-07fd-493e-d69c-154eabe1e5a9"
      },
      "source": [
        "data"
      ],
      "execution_count": null,
      "outputs": [
        {
          "output_type": "execute_result",
          "data": {
            "text/html": [
              "<div>\n",
              "<style scoped>\n",
              "    .dataframe tbody tr th:only-of-type {\n",
              "        vertical-align: middle;\n",
              "    }\n",
              "\n",
              "    .dataframe tbody tr th {\n",
              "        vertical-align: top;\n",
              "    }\n",
              "\n",
              "    .dataframe thead th {\n",
              "        text-align: right;\n",
              "    }\n",
              "</style>\n",
              "<table border=\"1\" class=\"dataframe\">\n",
              "  <thead>\n",
              "    <tr style=\"text-align: right;\">\n",
              "      <th></th>\n",
              "      <th>Channel_Name</th>\n",
              "      <th>Subscribers_Count</th>\n",
              "      <th>Videos_count</th>\n",
              "    </tr>\n",
              "  </thead>\n",
              "  <tbody>\n",
              "    <tr>\n",
              "      <th>0</th>\n",
              "      <td>Data Science with Partha</td>\n",
              "      <td>48</td>\n",
              "      <td>15</td>\n",
              "    </tr>\n",
              "    <tr>\n",
              "      <th>3</th>\n",
              "      <td>ProjectPro - Data Science Projects</td>\n",
              "      <td>399</td>\n",
              "      <td>164</td>\n",
              "    </tr>\n",
              "    <tr>\n",
              "      <th>4</th>\n",
              "      <td>DATA SCIENCE SUMMIT EUROPE 2016</td>\n",
              "      <td>185</td>\n",
              "      <td>48</td>\n",
              "    </tr>\n",
              "    <tr>\n",
              "      <th>5</th>\n",
              "      <td>Datascience SS</td>\n",
              "      <td>10</td>\n",
              "      <td>3</td>\n",
              "    </tr>\n",
              "    <tr>\n",
              "      <th>6</th>\n",
              "      <td>Introduction to Data Analytics</td>\n",
              "      <td>14400</td>\n",
              "      <td>51</td>\n",
              "    </tr>\n",
              "    <tr>\n",
              "      <th>...</th>\n",
              "      <td>...</td>\n",
              "      <td>...</td>\n",
              "      <td>...</td>\n",
              "    </tr>\n",
              "    <tr>\n",
              "      <th>211</th>\n",
              "      <td>edureka!</td>\n",
              "      <td>2640000</td>\n",
              "      <td>4,253</td>\n",
              "    </tr>\n",
              "    <tr>\n",
              "      <th>212</th>\n",
              "      <td>360DigiTMG</td>\n",
              "      <td>26500</td>\n",
              "      <td>408</td>\n",
              "    </tr>\n",
              "    <tr>\n",
              "      <th>214</th>\n",
              "      <td>Simplilearn</td>\n",
              "      <td>1060000</td>\n",
              "      <td>2,688</td>\n",
              "    </tr>\n",
              "    <tr>\n",
              "      <th>215</th>\n",
              "      <td>ML Trainings</td>\n",
              "      <td>14200</td>\n",
              "      <td>492</td>\n",
              "    </tr>\n",
              "    <tr>\n",
              "      <th>216</th>\n",
              "      <td>HVL Data Science</td>\n",
              "      <td>5</td>\n",
              "      <td>1</td>\n",
              "    </tr>\n",
              "  </tbody>\n",
              "</table>\n",
              "<p>190 rows × 3 columns</p>\n",
              "</div>"
            ],
            "text/plain": [
              "                           Channel_Name  Subscribers_Count Videos_count\n",
              "0              Data Science with Partha                 48          15 \n",
              "3    ProjectPro - Data Science Projects                399         164 \n",
              "4       DATA SCIENCE SUMMIT EUROPE 2016                185          48 \n",
              "5                        Datascience SS                 10           3 \n",
              "6        Introduction to Data Analytics              14400          51 \n",
              "..                                  ...                ...          ...\n",
              "211                            edureka!            2640000       4,253 \n",
              "212                          360DigiTMG              26500         408 \n",
              "214                         Simplilearn            1060000       2,688 \n",
              "215                        ML Trainings              14200         492 \n",
              "216                    HVL Data Science                  5           1 \n",
              "\n",
              "[190 rows x 3 columns]"
            ]
          },
          "metadata": {
            "tags": []
          },
          "execution_count": 13
        }
      ]
    },
    {
      "cell_type": "code",
      "metadata": {
        "colab": {
          "base_uri": "https://localhost:8080/",
          "height": 491
        },
        "id": "FhzIApPxLLRx",
        "outputId": "9c0e91d1-258f-4c2b-8852-45c5f5309cc0"
      },
      "source": [
        "#get nlargest 15\n",
        "data.nlargest(15,['Subscribers_Count'])"
      ],
      "execution_count": null,
      "outputs": [
        {
          "output_type": "execute_result",
          "data": {
            "text/html": [
              "<div>\n",
              "<style scoped>\n",
              "    .dataframe tbody tr th:only-of-type {\n",
              "        vertical-align: middle;\n",
              "    }\n",
              "\n",
              "    .dataframe tbody tr th {\n",
              "        vertical-align: top;\n",
              "    }\n",
              "\n",
              "    .dataframe thead th {\n",
              "        text-align: right;\n",
              "    }\n",
              "</style>\n",
              "<table border=\"1\" class=\"dataframe\">\n",
              "  <thead>\n",
              "    <tr style=\"text-align: right;\">\n",
              "      <th></th>\n",
              "      <th>Channel_Name</th>\n",
              "      <th>Subscribers_Count</th>\n",
              "      <th>Videos_count</th>\n",
              "    </tr>\n",
              "  </thead>\n",
              "  <tbody>\n",
              "    <tr>\n",
              "      <th>211</th>\n",
              "      <td>edureka!</td>\n",
              "      <td>2640000</td>\n",
              "      <td>4,253</td>\n",
              "    </tr>\n",
              "    <tr>\n",
              "      <th>214</th>\n",
              "      <td>Simplilearn</td>\n",
              "      <td>1060000</td>\n",
              "      <td>2,688</td>\n",
              "    </tr>\n",
              "    <tr>\n",
              "      <th>210</th>\n",
              "      <td>Joma Tech</td>\n",
              "      <td>1030000</td>\n",
              "      <td>86</td>\n",
              "    </tr>\n",
              "    <tr>\n",
              "      <th>209</th>\n",
              "      <td>Intellipaat</td>\n",
              "      <td>969000</td>\n",
              "      <td>2,059</td>\n",
              "    </tr>\n",
              "    <tr>\n",
              "      <th>194</th>\n",
              "      <td>Siraj Raval</td>\n",
              "      <td>712000</td>\n",
              "      <td>429</td>\n",
              "    </tr>\n",
              "    <tr>\n",
              "      <th>15</th>\n",
              "      <td>StatQuest with Josh Starmer</td>\n",
              "      <td>490000</td>\n",
              "      <td>199</td>\n",
              "    </tr>\n",
              "    <tr>\n",
              "      <th>50</th>\n",
              "      <td>Krish Naik</td>\n",
              "      <td>365000</td>\n",
              "      <td>1,029</td>\n",
              "    </tr>\n",
              "    <tr>\n",
              "      <th>127</th>\n",
              "      <td>codebasics</td>\n",
              "      <td>309000</td>\n",
              "      <td>394</td>\n",
              "    </tr>\n",
              "    <tr>\n",
              "      <th>140</th>\n",
              "      <td>365 Data Science</td>\n",
              "      <td>179000</td>\n",
              "      <td>190</td>\n",
              "    </tr>\n",
              "    <tr>\n",
              "      <th>16</th>\n",
              "      <td>Data School</td>\n",
              "      <td>173000</td>\n",
              "      <td>100</td>\n",
              "    </tr>\n",
              "    <tr>\n",
              "      <th>126</th>\n",
              "      <td>DataCamp</td>\n",
              "      <td>114000</td>\n",
              "      <td>1,203</td>\n",
              "    </tr>\n",
              "    <tr>\n",
              "      <th>17</th>\n",
              "      <td>Data Professor</td>\n",
              "      <td>67800</td>\n",
              "      <td>201</td>\n",
              "    </tr>\n",
              "    <tr>\n",
              "      <th>208</th>\n",
              "      <td>Tina Huang</td>\n",
              "      <td>61900</td>\n",
              "      <td>99</td>\n",
              "    </tr>\n",
              "    <tr>\n",
              "      <th>10</th>\n",
              "      <td>Art of Visualization</td>\n",
              "      <td>58000</td>\n",
              "      <td>253</td>\n",
              "    </tr>\n",
              "    <tr>\n",
              "      <th>203</th>\n",
              "      <td>Jeremy Howard</td>\n",
              "      <td>53600</td>\n",
              "      <td>106</td>\n",
              "    </tr>\n",
              "  </tbody>\n",
              "</table>\n",
              "</div>"
            ],
            "text/plain": [
              "                    Channel_Name  Subscribers_Count Videos_count\n",
              "211                     edureka!            2640000       4,253 \n",
              "214                  Simplilearn            1060000       2,688 \n",
              "210                    Joma Tech            1030000          86 \n",
              "209                  Intellipaat             969000       2,059 \n",
              "194                  Siraj Raval             712000         429 \n",
              "15   StatQuest with Josh Starmer             490000         199 \n",
              "50                    Krish Naik             365000       1,029 \n",
              "127                   codebasics             309000         394 \n",
              "140             365 Data Science             179000         190 \n",
              "16                   Data School             173000         100 \n",
              "126                     DataCamp             114000       1,203 \n",
              "17                Data Professor              67800         201 \n",
              "208                   Tina Huang              61900          99 \n",
              "10          Art of Visualization              58000         253 \n",
              "203                Jeremy Howard              53600         106 "
            ]
          },
          "metadata": {
            "tags": []
          },
          "execution_count": 16
        }
      ]
    },
    {
      "cell_type": "code",
      "metadata": {
        "id": "V1KtZuIZOMDW"
      },
      "source": [
        "#get views manually\n",
        "views=[215934700,73779851,66827579,47898953,43287178,23873798,25579703,18546773,6774429,8493662,15431915,1411233,1996874,3687810,5683371]"
      ],
      "execution_count": null,
      "outputs": []
    },
    {
      "cell_type": "code",
      "metadata": {
        "id": "0CL7tXIMOLsj"
      },
      "source": [
        "#save top 15 in new data frame\n",
        "data_top=data.copy()\n",
        "data_top=data_top.nlargest(15,['Subscribers_Count'])"
      ],
      "execution_count": null,
      "outputs": []
    },
    {
      "cell_type": "code",
      "metadata": {
        "colab": {
          "base_uri": "https://localhost:8080/",
          "height": 491
        },
        "id": "fjN2JluTQ4AC",
        "outputId": "d676827f-a231-4a36-9d09-5d96384cf52f"
      },
      "source": [
        "#append new column to the top data\n",
        "data_top['Views_Count']=views\n",
        "data_top"
      ],
      "execution_count": null,
      "outputs": [
        {
          "output_type": "execute_result",
          "data": {
            "text/html": [
              "<div>\n",
              "<style scoped>\n",
              "    .dataframe tbody tr th:only-of-type {\n",
              "        vertical-align: middle;\n",
              "    }\n",
              "\n",
              "    .dataframe tbody tr th {\n",
              "        vertical-align: top;\n",
              "    }\n",
              "\n",
              "    .dataframe thead th {\n",
              "        text-align: right;\n",
              "    }\n",
              "</style>\n",
              "<table border=\"1\" class=\"dataframe\">\n",
              "  <thead>\n",
              "    <tr style=\"text-align: right;\">\n",
              "      <th></th>\n",
              "      <th>Channel_Name</th>\n",
              "      <th>Subscribers_Count</th>\n",
              "      <th>Videos_count</th>\n",
              "      <th>Views_Count</th>\n",
              "    </tr>\n",
              "  </thead>\n",
              "  <tbody>\n",
              "    <tr>\n",
              "      <th>211</th>\n",
              "      <td>edureka!</td>\n",
              "      <td>2640000</td>\n",
              "      <td>4,253</td>\n",
              "      <td>215934700</td>\n",
              "    </tr>\n",
              "    <tr>\n",
              "      <th>214</th>\n",
              "      <td>Simplilearn</td>\n",
              "      <td>1060000</td>\n",
              "      <td>2,688</td>\n",
              "      <td>73779851</td>\n",
              "    </tr>\n",
              "    <tr>\n",
              "      <th>210</th>\n",
              "      <td>Joma Tech</td>\n",
              "      <td>1030000</td>\n",
              "      <td>86</td>\n",
              "      <td>66827579</td>\n",
              "    </tr>\n",
              "    <tr>\n",
              "      <th>209</th>\n",
              "      <td>Intellipaat</td>\n",
              "      <td>969000</td>\n",
              "      <td>2,059</td>\n",
              "      <td>47898953</td>\n",
              "    </tr>\n",
              "    <tr>\n",
              "      <th>194</th>\n",
              "      <td>Siraj Raval</td>\n",
              "      <td>712000</td>\n",
              "      <td>429</td>\n",
              "      <td>43287178</td>\n",
              "    </tr>\n",
              "    <tr>\n",
              "      <th>15</th>\n",
              "      <td>StatQuest with Josh Starmer</td>\n",
              "      <td>490000</td>\n",
              "      <td>199</td>\n",
              "      <td>23873798</td>\n",
              "    </tr>\n",
              "    <tr>\n",
              "      <th>50</th>\n",
              "      <td>Krish Naik</td>\n",
              "      <td>365000</td>\n",
              "      <td>1,029</td>\n",
              "      <td>25579703</td>\n",
              "    </tr>\n",
              "    <tr>\n",
              "      <th>127</th>\n",
              "      <td>codebasics</td>\n",
              "      <td>309000</td>\n",
              "      <td>394</td>\n",
              "      <td>18546773</td>\n",
              "    </tr>\n",
              "    <tr>\n",
              "      <th>140</th>\n",
              "      <td>365 Data Science</td>\n",
              "      <td>179000</td>\n",
              "      <td>190</td>\n",
              "      <td>6774429</td>\n",
              "    </tr>\n",
              "    <tr>\n",
              "      <th>16</th>\n",
              "      <td>Data School</td>\n",
              "      <td>173000</td>\n",
              "      <td>100</td>\n",
              "      <td>8493662</td>\n",
              "    </tr>\n",
              "    <tr>\n",
              "      <th>126</th>\n",
              "      <td>DataCamp</td>\n",
              "      <td>114000</td>\n",
              "      <td>1,203</td>\n",
              "      <td>15431915</td>\n",
              "    </tr>\n",
              "    <tr>\n",
              "      <th>17</th>\n",
              "      <td>Data Professor</td>\n",
              "      <td>67800</td>\n",
              "      <td>201</td>\n",
              "      <td>1411233</td>\n",
              "    </tr>\n",
              "    <tr>\n",
              "      <th>208</th>\n",
              "      <td>Tina Huang</td>\n",
              "      <td>61900</td>\n",
              "      <td>99</td>\n",
              "      <td>1996874</td>\n",
              "    </tr>\n",
              "    <tr>\n",
              "      <th>10</th>\n",
              "      <td>Art of Visualization</td>\n",
              "      <td>58000</td>\n",
              "      <td>253</td>\n",
              "      <td>3687810</td>\n",
              "    </tr>\n",
              "    <tr>\n",
              "      <th>203</th>\n",
              "      <td>Jeremy Howard</td>\n",
              "      <td>53600</td>\n",
              "      <td>106</td>\n",
              "      <td>5683371</td>\n",
              "    </tr>\n",
              "  </tbody>\n",
              "</table>\n",
              "</div>"
            ],
            "text/plain": [
              "                    Channel_Name  Subscribers_Count Videos_count  Views_Count\n",
              "211                     edureka!            2640000       4,253     215934700\n",
              "214                  Simplilearn            1060000       2,688      73779851\n",
              "210                    Joma Tech            1030000          86      66827579\n",
              "209                  Intellipaat             969000       2,059      47898953\n",
              "194                  Siraj Raval             712000         429      43287178\n",
              "15   StatQuest with Josh Starmer             490000         199      23873798\n",
              "50                    Krish Naik             365000       1,029      25579703\n",
              "127                   codebasics             309000         394      18546773\n",
              "140             365 Data Science             179000         190       6774429\n",
              "16                   Data School             173000         100       8493662\n",
              "126                     DataCamp             114000       1,203      15431915\n",
              "17                Data Professor              67800         201       1411233\n",
              "208                   Tina Huang              61900          99       1996874\n",
              "10          Art of Visualization              58000         253       3687810\n",
              "203                Jeremy Howard              53600         106       5683371"
            ]
          },
          "metadata": {
            "tags": []
          },
          "execution_count": 25
        }
      ]
    },
    {
      "cell_type": "code",
      "metadata": {
        "id": "vu8ixP0cQ3hK"
      },
      "source": [
        "#get csv of top data\n",
        "data_top.to_csv('youtube_scrap_top.csv',index=False)"
      ],
      "execution_count": null,
      "outputs": []
    },
    {
      "cell_type": "code",
      "metadata": {
        "id": "SevzP2KTQODB"
      },
      "source": [
        "#get csv of all data\n",
        "data.to_csv('youtube_scrap.csv',index=False)"
      ],
      "execution_count": null,
      "outputs": []
    },
    {
      "cell_type": "markdown",
      "metadata": {
        "id": "86Y5Z4nwXQ1a"
      },
      "source": [
        "\n",
        "# [**Tableau viz link**](https://public.tableau.com/profile/hariharan6880#!/vizhome/Top_DataScience_YouTube_Channels/Sheet1) of this data"
      ]
    },
    {
      "cell_type": "code",
      "metadata": {
        "id": "lhG8dB5GRf7y"
      },
      "source": [
        ""
      ],
      "execution_count": null,
      "outputs": []
    }
  ]
}