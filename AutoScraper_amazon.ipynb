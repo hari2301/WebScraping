{
  "nbformat": 4,
  "nbformat_minor": 0,
  "metadata": {
    "colab": {
      "name": "AutoScraper-amazon.ipynb",
      "provenance": [],
      "collapsed_sections": [],
      "authorship_tag": "ABX9TyO3eytOzufxC+TS4Ien6Zlu",
      "include_colab_link": true
    },
    "kernelspec": {
      "name": "python3",
      "display_name": "Python 3"
    },
    "language_info": {
      "name": "python"
    }
  },
  "cells": [
    {
      "cell_type": "markdown",
      "metadata": {
        "id": "view-in-github",
        "colab_type": "text"
      },
      "source": [
        "<a href=\"https://colab.research.google.com/github/hari2301/WebScraping/blob/main/AutoScraper_amazon.ipynb\" target=\"_parent\"><img src=\"https://colab.research.google.com/assets/colab-badge.svg\" alt=\"Open In Colab\"/></a>"
      ]
    },
    {
      "cell_type": "code",
      "metadata": {
        "id": "QXJBPvSNNTZf",
        "colab": {
          "base_uri": "https://localhost:8080/"
        },
        "outputId": "5fe0d51e-8053-4eda-8357-5f9618ddc526"
      },
      "source": [
        "!pip install autoscraper"
      ],
      "execution_count": 2,
      "outputs": [
        {
          "output_type": "stream",
          "text": [
            "Collecting autoscraper\n",
            "  Downloading https://files.pythonhosted.org/packages/50/44/553afbb7624aaa16e71546196c1f3beb170dd555a2822785889a9da5c2e7/autoscraper-1.1.12-py3-none-any.whl\n",
            "Requirement already satisfied: requests in /usr/local/lib/python3.7/dist-packages (from autoscraper) (2.23.0)\n",
            "Requirement already satisfied: bs4 in /usr/local/lib/python3.7/dist-packages (from autoscraper) (0.0.1)\n",
            "Requirement already satisfied: lxml in /usr/local/lib/python3.7/dist-packages (from autoscraper) (4.2.6)\n",
            "Requirement already satisfied: certifi>=2017.4.17 in /usr/local/lib/python3.7/dist-packages (from requests->autoscraper) (2020.12.5)\n",
            "Requirement already satisfied: urllib3!=1.25.0,!=1.25.1,<1.26,>=1.21.1 in /usr/local/lib/python3.7/dist-packages (from requests->autoscraper) (1.24.3)\n",
            "Requirement already satisfied: chardet<4,>=3.0.2 in /usr/local/lib/python3.7/dist-packages (from requests->autoscraper) (3.0.4)\n",
            "Requirement already satisfied: idna<3,>=2.5 in /usr/local/lib/python3.7/dist-packages (from requests->autoscraper) (2.10)\n",
            "Requirement already satisfied: beautifulsoup4 in /usr/local/lib/python3.7/dist-packages (from bs4->autoscraper) (4.6.3)\n",
            "Installing collected packages: autoscraper\n",
            "Successfully installed autoscraper-1.1.12\n"
          ],
          "name": "stdout"
        }
      ]
    },
    {
      "cell_type": "code",
      "metadata": {
        "id": "39tjSXbGMsLp"
      },
      "source": [
        "from autoscraper import AutoScraper\n",
        "import pandas as pd"
      ],
      "execution_count": 21,
      "outputs": []
    },
    {
      "cell_type": "code",
      "metadata": {
        "id": "FHaEeewHNOhg"
      },
      "source": [
        "#create object and insert url, wanted data list into the object\n",
        "\n",
        "scrap=AutoScraper()\n",
        "url='https://www.amazon.in/s?i=aps&k=iphone&ref=nb_sb_noss_1&url=search-alias%3Daps'\n",
        "wanted=['New Apple iPhone 11 (128GB) - Purple','₹57,400','https://m.media-amazon.com/images/I/71tpxtLD0aL._AC_UY218_.jpg']\n",
        "\n",
        "result=scrap.build(url,wanted)"
      ],
      "execution_count": 30,
      "outputs": []
    },
    {
      "cell_type": "code",
      "metadata": {
        "colab": {
          "base_uri": "https://localhost:8080/"
        },
        "id": "2-1fgEeghdYv",
        "outputId": "adfccea6-0f7d-4cfe-e36c-57f177b67345"
      },
      "source": [
        "#some time results may repliate, at that time try to get kwys manually, else use key() function\n",
        "\n",
        "result_grp=scrap.get_result_similar(url,grouped=True)\n",
        "#result_grp.keys()\n",
        "result_grp"
      ],
      "execution_count": 32,
      "outputs": [
        {
          "output_type": "execute_result",
          "data": {
            "text/plain": [
              "{'rule_4xzj': ['New Apple iPhone 11 (128GB) - White',\n",
              "  'New Apple iPhone 12 Pro Max (128GB) - Pacific Blue',\n",
              "  'New Apple iPhone 12 (128GB) - Blue',\n",
              "  'New Apple iPhone 11 (128GB) - Purple',\n",
              "  'New Apple iPhone 12 Mini (64GB) - Black',\n",
              "  'New Apple iPhone 11 (128GB) - Green',\n",
              "  'New Apple iPhone 12 Mini (64GB) - Blue',\n",
              "  'New Apple iPhone 11 (128GB) - (Product) RED',\n",
              "  'New Apple iPhone 12 Pro Max (256GB) - Graphite',\n",
              "  'New Apple iPhone 12 (64GB) - Blue',\n",
              "  'New Apple iPhone 12 (64GB) - Black',\n",
              "  'New Apple iPhone 12 Mini (128GB) - Green',\n",
              "  'Apple iPhone 11 Pro Max (256GB) - Midnight Green',\n",
              "  'Apple iPhone 11 Pro Max (256GB) - Gold',\n",
              "  'Apple iPhone 8 (Gold, 256GB)',\n",
              "  'New Apple iPhone 12 Mini (64GB) - White'],\n",
              " 'rule_fciv': ['https://m.media-amazon.com/images/I/71QE00iB9IL._AC_UY218_.jpg',\n",
              "  'https://m.media-amazon.com/images/I/71MHTD3uL4L._AC_UY218_.jpg',\n",
              "  'https://m.media-amazon.com/images/I/71ZOtNdaZCL._AC_UY218_.jpg',\n",
              "  'https://m.media-amazon.com/images/I/71tpxtLD0aL._AC_UY218_.jpg',\n",
              "  'https://m.media-amazon.com/images/I/71uuDYxn3XL._AC_UY218_.jpg',\n",
              "  'https://m.media-amazon.com/images/I/71w3oJ7aWyL._AC_UY218_.jpg',\n",
              "  'https://m.media-amazon.com/images/I/71sNNCTfMuL._AC_UY218_.jpg',\n",
              "  'https://m.media-amazon.com/images/I/71hh7cpWadL._AC_UY218_.jpg',\n",
              "  'https://m.media-amazon.com/images/I/71XXJC7V8tL._AC_UY218_.jpg',\n",
              "  'https://m.media-amazon.com/images/I/71ZOtNdaZCL._AC_UY218_.jpg',\n",
              "  'https://m.media-amazon.com/images/I/71fVoqRC0wL._AC_UY218_.jpg',\n",
              "  'https://m.media-amazon.com/images/I/71i+-WmxHWL._AC_UY218_.jpg',\n",
              "  'https://m.media-amazon.com/images/I/61ers6OzvUL._AC_UY218_.jpg',\n",
              "  'https://m.media-amazon.com/images/I/611JavcU70L._AC_UY218_.jpg',\n",
              "  'https://m.media-amazon.com/images/I/51fqTrJaTvL._AC_UY218_.jpg',\n",
              "  'https://m.media-amazon.com/images/I/71tT8J5cKuL._AC_UY218_.jpg'],\n",
              " 'rule_j3km': ['₹59,900',\n",
              "  '₹1,25,900',\n",
              "  '₹1,29,900',\n",
              "  '₹82,400',\n",
              "  '₹84,900',\n",
              "  '₹57,400',\n",
              "  '₹59,900',\n",
              "  '₹65,900',\n",
              "  '₹69,900',\n",
              "  '₹59,900',\n",
              "  '₹66,900',\n",
              "  '₹69,900',\n",
              "  '₹58,400',\n",
              "  '₹59,900',\n",
              "  '₹1,35,900',\n",
              "  '₹1,39,900',\n",
              "  '₹77,900',\n",
              "  '₹79,900',\n",
              "  '₹77,900',\n",
              "  '₹79,900',\n",
              "  '₹74,900',\n",
              "  '₹93,900',\n",
              "  '₹1,23,900',\n",
              "  '₹93,900',\n",
              "  '₹1,31,900',\n",
              "  '₹46,556',\n",
              "  '₹77,000',\n",
              "  '₹66,900',\n",
              "  '₹69,900'],\n",
              " 'rule_kv1c': ['New Apple iPhone 11 (128GB) - White',\n",
              "  'New Apple iPhone 12 Pro Max (128GB) - Pacific Blue',\n",
              "  'New Apple iPhone 12 (128GB) - Blue',\n",
              "  'New Apple iPhone 11 (128GB) - Purple',\n",
              "  'New Apple iPhone 12 Mini (64GB) - Black',\n",
              "  'New Apple iPhone 11 (128GB) - Green',\n",
              "  'New Apple iPhone 12 Mini (64GB) - Blue',\n",
              "  'New Apple iPhone 11 (128GB) - (Product) RED',\n",
              "  'New Apple iPhone 12 Pro Max (256GB) - Graphite',\n",
              "  'New Apple iPhone 12 (64GB) - Blue',\n",
              "  'New Apple iPhone 12 (64GB) - Black',\n",
              "  'New Apple iPhone 12 Mini (128GB) - Green',\n",
              "  'Apple iPhone 11 Pro Max (256GB) - Midnight Green',\n",
              "  'Apple iPhone 11 Pro Max (256GB) - Gold',\n",
              "  'Apple iPhone 8 (Gold, 256GB)',\n",
              "  'New Apple iPhone 12 Mini (64GB) - White'],\n",
              " 'rule_mlwx': ['₹59,900',\n",
              "  '₹1,25,900',\n",
              "  '₹1,29,900',\n",
              "  '₹82,400',\n",
              "  '₹84,900',\n",
              "  '₹57,400',\n",
              "  '₹59,900',\n",
              "  '₹65,900',\n",
              "  '₹69,900',\n",
              "  '₹59,900',\n",
              "  '₹66,900',\n",
              "  '₹69,900',\n",
              "  '₹58,400',\n",
              "  '₹59,900',\n",
              "  '₹1,35,900',\n",
              "  '₹1,39,900',\n",
              "  '₹77,900',\n",
              "  '₹79,900',\n",
              "  '₹77,900',\n",
              "  '₹79,900',\n",
              "  '₹74,900',\n",
              "  '₹93,900',\n",
              "  '₹1,23,900',\n",
              "  '₹93,900',\n",
              "  '₹1,31,900',\n",
              "  '₹46,556',\n",
              "  '₹77,000',\n",
              "  '₹66,900',\n",
              "  '₹69,900']}"
            ]
          },
          "metadata": {
            "tags": []
          },
          "execution_count": 32
        }
      ]
    },
    {
      "cell_type": "code",
      "metadata": {
        "id": "UJJ0CCiii2IO"
      },
      "source": [
        "#name the indixes and save.\n",
        "\n",
        "scrap.set_rule_aliases({'rule_j3km':'Rate','rule_4xzj':'Name','rule_fciv':'img'})\n",
        "scrap.keep_rules(['rule_j3km','rule_4xzj','rule_fciv'])\n",
        "scrap.save('e-commerce')"
      ],
      "execution_count": 36,
      "outputs": []
    },
    {
      "cell_type": "code",
      "metadata": {
        "id": "v02H2kfmjxVu"
      },
      "source": [
        "#use different url for the saved object\n",
        "\n",
        "result=scrap.get_result_similar('https://www.amazon.in/s?i=aps&k=laptop&ref=nb_sb_noss_1&url=search-alias%3Daps',group_by_alias=True)\n",
        "result['Rate'][0:16]"
      ],
      "execution_count": 37,
      "outputs": []
    },
    {
      "cell_type": "code",
      "metadata": {
        "id": "N-RSKd37lEIx"
      },
      "source": [
        "#convert it to the dataframe \n",
        "\n",
        "df=pd.DataFrame(\n",
        "    {'Name'    :result['Name'],\n",
        "    'Rate'    :result['Rate'][0:16],\n",
        "    'Img_url' :result['img']}\n",
        ")"
      ],
      "execution_count": 39,
      "outputs": []
    },
    {
      "cell_type": "code",
      "metadata": {
        "colab": {
          "base_uri": "https://localhost:8080/",
          "height": 521
        },
        "id": "ApBGi7c7DyKk",
        "outputId": "db2c51e8-eb06-47b6-c6c7-bbd33500b324"
      },
      "source": [
        "df"
      ],
      "execution_count": 40,
      "outputs": [
        {
          "output_type": "execute_result",
          "data": {
            "text/html": [
              "<div>\n",
              "<style scoped>\n",
              "    .dataframe tbody tr th:only-of-type {\n",
              "        vertical-align: middle;\n",
              "    }\n",
              "\n",
              "    .dataframe tbody tr th {\n",
              "        vertical-align: top;\n",
              "    }\n",
              "\n",
              "    .dataframe thead th {\n",
              "        text-align: right;\n",
              "    }\n",
              "</style>\n",
              "<table border=\"1\" class=\"dataframe\">\n",
              "  <thead>\n",
              "    <tr style=\"text-align: right;\">\n",
              "      <th></th>\n",
              "      <th>Name</th>\n",
              "      <th>Rate</th>\n",
              "      <th>Img_url</th>\n",
              "    </tr>\n",
              "  </thead>\n",
              "  <tbody>\n",
              "    <tr>\n",
              "      <th>0</th>\n",
              "      <td>HP 15 Entry Level 15.6-inch (39.62 cms) HD Lap...</td>\n",
              "      <td>₹23,990</td>\n",
              "      <td>https://m.media-amazon.com/images/I/719F8WdfBz...</td>\n",
              "    </tr>\n",
              "    <tr>\n",
              "      <th>1</th>\n",
              "      <td>Dell Inspiron 3502 15.6</td>\n",
              "      <td>₹27,784.50</td>\n",
              "      <td>https://m.media-amazon.com/images/I/51jPUwqQTF...</td>\n",
              "    </tr>\n",
              "    <tr>\n",
              "      <th>2</th>\n",
              "      <td>HP 15 Intel Pentium Gold 6405U Processor Entry...</td>\n",
              "      <td>₹28,906</td>\n",
              "      <td>https://m.media-amazon.com/images/I/71FB8qoB78...</td>\n",
              "    </tr>\n",
              "    <tr>\n",
              "      <th>3</th>\n",
              "      <td>Lenovo IdeaPad Slim 3 Intel Celeron N4020 15.6...</td>\n",
              "      <td>₹31,000</td>\n",
              "      <td>https://m.media-amazon.com/images/I/61Dw5Z8LzJ...</td>\n",
              "    </tr>\n",
              "    <tr>\n",
              "      <th>4</th>\n",
              "      <td>ASUS VivoBook 14 (2020) Intel Quad Core Pentiu...</td>\n",
              "      <td>₹26,599</td>\n",
              "      <td>https://m.media-amazon.com/images/I/71WuDXpTAl...</td>\n",
              "    </tr>\n",
              "    <tr>\n",
              "      <th>5</th>\n",
              "      <td>AVITA Essential NE14A2INC433-CR 14-inch Laptop...</td>\n",
              "      <td>₹29,632.50</td>\n",
              "      <td>https://m.media-amazon.com/images/I/61NsZ6UrfP...</td>\n",
              "    </tr>\n",
              "    <tr>\n",
              "      <th>6</th>\n",
              "      <td>HP 14 Ultra Thin &amp; Light 14-inch Laptop (10th ...</td>\n",
              "      <td>₹29,885</td>\n",
              "      <td>https://m.media-amazon.com/images/I/81MEmcBaxV...</td>\n",
              "    </tr>\n",
              "    <tr>\n",
              "      <th>7</th>\n",
              "      <td>HP 15 AMD Athlon 15.6-inch HD Laptop (Silver-3...</td>\n",
              "      <td>₹30,690</td>\n",
              "      <td>https://m.media-amazon.com/images/I/61bkuSlKF4...</td>\n",
              "    </tr>\n",
              "    <tr>\n",
              "      <th>8</th>\n",
              "      <td>Lenovo Ideapad S145 AMD Ryzen 3 3200U 15.6 inc...</td>\n",
              "      <td>₹24,990</td>\n",
              "      <td>https://m.media-amazon.com/images/I/61PXjYVtmq...</td>\n",
              "    </tr>\n",
              "    <tr>\n",
              "      <th>9</th>\n",
              "      <td>HP 14 (2021) Thin &amp; Light Intel Celeron N4500 ...</td>\n",
              "      <td>₹31,990</td>\n",
              "      <td>https://m.media-amazon.com/images/I/71CiYVzgJs...</td>\n",
              "    </tr>\n",
              "    <tr>\n",
              "      <th>10</th>\n",
              "      <td>LifeDigital ZED AIR CX3 Laptop, 15.6</td>\n",
              "      <td>₹18,990</td>\n",
              "      <td>https://m.media-amazon.com/images/I/71tnnbggvr...</td>\n",
              "    </tr>\n",
              "    <tr>\n",
              "      <th>11</th>\n",
              "      <td>Lenovo Ideapad Slim 3 AMD Athlon Silver 3050U ...</td>\n",
              "      <td>₹23,290</td>\n",
              "      <td>https://m.media-amazon.com/images/I/61Dw5Z8LzJ...</td>\n",
              "    </tr>\n",
              "    <tr>\n",
              "      <th>12</th>\n",
              "      <td>Lenovo V15 Intel Core i5 10th Gen 15-inch Full...</td>\n",
              "      <td>₹36,990</td>\n",
              "      <td>https://m.media-amazon.com/images/I/71cd41RWSN...</td>\n",
              "    </tr>\n",
              "    <tr>\n",
              "      <th>13</th>\n",
              "      <td>Dell Inspiron 3501 15.6</td>\n",
              "      <td>₹42,103</td>\n",
              "      <td>https://m.media-amazon.com/images/I/61zbf9g+VD...</td>\n",
              "    </tr>\n",
              "    <tr>\n",
              "      <th>14</th>\n",
              "      <td>Dell Vostro 3401 14 inch (35.56 cms) FHD Anti ...</td>\n",
              "      <td>₹26,990</td>\n",
              "      <td>https://m.media-amazon.com/images/I/8147cwFm2P...</td>\n",
              "    </tr>\n",
              "    <tr>\n",
              "      <th>15</th>\n",
              "      <td>Lenovo E41-45 (82BF000JIH) Laptop (AMD A6-7350...</td>\n",
              "      <td>₹29,822.50</td>\n",
              "      <td>https://m.media-amazon.com/images/I/41T2Oimq0A...</td>\n",
              "    </tr>\n",
              "  </tbody>\n",
              "</table>\n",
              "</div>"
            ],
            "text/plain": [
              "                                                 Name  ...                                            Img_url\n",
              "0   HP 15 Entry Level 15.6-inch (39.62 cms) HD Lap...  ...  https://m.media-amazon.com/images/I/719F8WdfBz...\n",
              "1                             Dell Inspiron 3502 15.6  ...  https://m.media-amazon.com/images/I/51jPUwqQTF...\n",
              "2   HP 15 Intel Pentium Gold 6405U Processor Entry...  ...  https://m.media-amazon.com/images/I/71FB8qoB78...\n",
              "3   Lenovo IdeaPad Slim 3 Intel Celeron N4020 15.6...  ...  https://m.media-amazon.com/images/I/61Dw5Z8LzJ...\n",
              "4   ASUS VivoBook 14 (2020) Intel Quad Core Pentiu...  ...  https://m.media-amazon.com/images/I/71WuDXpTAl...\n",
              "5   AVITA Essential NE14A2INC433-CR 14-inch Laptop...  ...  https://m.media-amazon.com/images/I/61NsZ6UrfP...\n",
              "6   HP 14 Ultra Thin & Light 14-inch Laptop (10th ...  ...  https://m.media-amazon.com/images/I/81MEmcBaxV...\n",
              "7   HP 15 AMD Athlon 15.6-inch HD Laptop (Silver-3...  ...  https://m.media-amazon.com/images/I/61bkuSlKF4...\n",
              "8   Lenovo Ideapad S145 AMD Ryzen 3 3200U 15.6 inc...  ...  https://m.media-amazon.com/images/I/61PXjYVtmq...\n",
              "9   HP 14 (2021) Thin & Light Intel Celeron N4500 ...  ...  https://m.media-amazon.com/images/I/71CiYVzgJs...\n",
              "10               LifeDigital ZED AIR CX3 Laptop, 15.6  ...  https://m.media-amazon.com/images/I/71tnnbggvr...\n",
              "11  Lenovo Ideapad Slim 3 AMD Athlon Silver 3050U ...  ...  https://m.media-amazon.com/images/I/61Dw5Z8LzJ...\n",
              "12  Lenovo V15 Intel Core i5 10th Gen 15-inch Full...  ...  https://m.media-amazon.com/images/I/71cd41RWSN...\n",
              "13                            Dell Inspiron 3501 15.6  ...  https://m.media-amazon.com/images/I/61zbf9g+VD...\n",
              "14  Dell Vostro 3401 14 inch (35.56 cms) FHD Anti ...  ...  https://m.media-amazon.com/images/I/8147cwFm2P...\n",
              "15  Lenovo E41-45 (82BF000JIH) Laptop (AMD A6-7350...  ...  https://m.media-amazon.com/images/I/41T2Oimq0A...\n",
              "\n",
              "[16 rows x 3 columns]"
            ]
          },
          "metadata": {
            "tags": []
          },
          "execution_count": 40
        }
      ]
    },
    {
      "cell_type": "code",
      "metadata": {
        "id": "qdoYUXV6OhDq"
      },
      "source": [
        ""
      ],
      "execution_count": null,
      "outputs": []
    }
  ]
}