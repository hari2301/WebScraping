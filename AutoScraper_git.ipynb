{
  "nbformat": 4,
  "nbformat_minor": 0,
  "metadata": {
    "colab": {
      "name": "AutoScraper-git.ipynb",
      "provenance": [],
      "collapsed_sections": []
    },
    "kernelspec": {
      "name": "python3",
      "display_name": "Python 3"
    },
    "language_info": {
      "name": "python"
    }
  },
  "cells": [
    {
      "cell_type": "code",
      "metadata": {
        "id": "MMyVNvVSfiNK",
        "colab": {
          "base_uri": "https://localhost:8080/"
        },
        "outputId": "d79848d9-2724-4883-df70-c73a8072dce6"
      },
      "source": [
        "!pip install autoscraper"
      ],
      "execution_count": 14,
      "outputs": [
        {
          "output_type": "stream",
          "text": [
            "Requirement already satisfied: autoscraper in /usr/local/lib/python3.7/dist-packages (1.1.12)\n",
            "Requirement already satisfied: bs4 in /usr/local/lib/python3.7/dist-packages (from autoscraper) (0.0.1)\n",
            "Requirement already satisfied: lxml in /usr/local/lib/python3.7/dist-packages (from autoscraper) (4.2.6)\n",
            "Requirement already satisfied: requests in /usr/local/lib/python3.7/dist-packages (from autoscraper) (2.23.0)\n",
            "Requirement already satisfied: beautifulsoup4 in /usr/local/lib/python3.7/dist-packages (from bs4->autoscraper) (4.6.3)\n",
            "Requirement already satisfied: urllib3!=1.25.0,!=1.25.1,<1.26,>=1.21.1 in /usr/local/lib/python3.7/dist-packages (from requests->autoscraper) (1.24.3)\n",
            "Requirement already satisfied: certifi>=2017.4.17 in /usr/local/lib/python3.7/dist-packages (from requests->autoscraper) (2020.12.5)\n",
            "Requirement already satisfied: idna<3,>=2.5 in /usr/local/lib/python3.7/dist-packages (from requests->autoscraper) (2.10)\n",
            "Requirement already satisfied: chardet<4,>=3.0.2 in /usr/local/lib/python3.7/dist-packages (from requests->autoscraper) (3.0.4)\n"
          ],
          "name": "stdout"
        }
      ]
    },
    {
      "cell_type": "code",
      "metadata": {
        "colab": {
          "base_uri": "https://localhost:8080/"
        },
        "id": "o-uTH1l6l0pL",
        "outputId": "3f0fb74a-2e0c-4d65-bb4d-f711a1cdcdf9"
      },
      "source": [
        "from autoscraper import AutoScraper\n",
        "scrap=AutoScraper()\n",
        "\n",
        "#page url to scrap\n",
        "url='https://github.com/Furkan-Gulsen?tab=repositories'\n",
        "\n",
        "#list the data that we want\n",
        "wanted=['Sport-With-AI','Jupyter Notebook']\n",
        "\n",
        "#build the result\n",
        "scrap.build(url,wanted)"
      ],
      "execution_count": 15,
      "outputs": [
        {
          "output_type": "execute_result",
          "data": {
            "text/plain": [
              "['Sport-With-AI',\n",
              " 'Furkan-Gulsen',\n",
              " 'face-classification',\n",
              " 'python-face-stabilization',\n",
              " 'Simple-Messaging-App-With-Node-And-Socket.io-',\n",
              " 'Realtime-Chat-With-User-And-Rooms',\n",
              " 'T-Rex-Game-with-CNN',\n",
              " 'Node.js-Passport-Login-System',\n",
              " 'authentication-with-jwt---node-and-mongo',\n",
              " 'pytorch-seq2seq\\n\\n\\n          Forked from bentrevett/pytorch-seq2seq',\n",
              " 'chatbot-with-pytorch',\n",
              " 'HTML-CSS-JAVASCRIPT',\n",
              " 'Blur-Detection-Web-App',\n",
              " 'social-distance-detection',\n",
              " 'codeblogger-social-website',\n",
              " 'Document-Scanner-Web-App',\n",
              " 'Python-Algorithms',\n",
              " 'iris_predictor_web_app',\n",
              " 'wavesurfer.js\\n\\n\\n          Forked from katspaugh/wavesurfer.js',\n",
              " 'Lane-Detection-With-Image-Processing',\n",
              " 'Recognize-Handwritten-Digits',\n",
              " 'Object-Detection-with-YOLO',\n",
              " 'Face-Mask-Detection',\n",
              " 'veri_bilimi_ve_makine_ogrenmesi',\n",
              " 'A-Movie-App-With-React-And-Graphql',\n",
              " 'ant-design\\n\\n\\n          Forked from ant-design/ant-design',\n",
              " 'pandas-dokumantasyonu',\n",
              " 'PHP-Projects',\n",
              " 'phpEmailSystem',\n",
              " 'ReactJS-Projects',\n",
              " 'Jupyter Notebook',\n",
              " 'Python',\n",
              " 'HTML',\n",
              " 'JavaScript',\n",
              " 'CSS',\n",
              " 'TypeScript',\n",
              " 'PHP',\n",
              " 'Sources',\n",
              " 'Stars']"
            ]
          },
          "metadata": {
            "tags": []
          },
          "execution_count": 15
        }
      ]
    },
    {
      "cell_type": "code",
      "metadata": {
        "colab": {
          "base_uri": "https://localhost:8080/"
        },
        "id": "2b-V40wwoOAf",
        "outputId": "3c38c267-6a0b-4476-fc97-671d082fb8e3"
      },
      "source": [
        "#get these data grouped\n",
        "scrap.get_result_similar(url,grouped=True,)"
      ],
      "execution_count": 16,
      "outputs": [
        {
          "output_type": "execute_result",
          "data": {
            "text/plain": [
              "{'rule_3gaq': ['Jupyter Notebook',\n",
              "  'Python',\n",
              "  'Python',\n",
              "  'HTML',\n",
              "  'JavaScript',\n",
              "  'Python',\n",
              "  'JavaScript',\n",
              "  'JavaScript',\n",
              "  'Jupyter Notebook',\n",
              "  'Python',\n",
              "  'HTML',\n",
              "  'Python',\n",
              "  'Python',\n",
              "  'CSS',\n",
              "  'Python',\n",
              "  'Python',\n",
              "  'Jupyter Notebook',\n",
              "  'JavaScript',\n",
              "  'Python',\n",
              "  'Jupyter Notebook',\n",
              "  'Python',\n",
              "  'Python',\n",
              "  'Jupyter Notebook',\n",
              "  'JavaScript',\n",
              "  'TypeScript',\n",
              "  'Jupyter Notebook',\n",
              "  'PHP',\n",
              "  'PHP',\n",
              "  'JavaScript'],\n",
              " 'rule_840l': ['Sport-With-AI',\n",
              "  'Furkan-Gulsen',\n",
              "  'face-classification',\n",
              "  'python-face-stabilization',\n",
              "  'Simple-Messaging-App-With-Node-And-Socket.io-',\n",
              "  'Realtime-Chat-With-User-And-Rooms',\n",
              "  'T-Rex-Game-with-CNN',\n",
              "  'Node.js-Passport-Login-System',\n",
              "  'authentication-with-jwt---node-and-mongo',\n",
              "  'pytorch-seq2seq\\n\\n\\n          Forked from bentrevett/pytorch-seq2seq',\n",
              "  'chatbot-with-pytorch',\n",
              "  'HTML-CSS-JAVASCRIPT',\n",
              "  'Blur-Detection-Web-App',\n",
              "  'social-distance-detection',\n",
              "  'codeblogger-social-website',\n",
              "  'Document-Scanner-Web-App',\n",
              "  'Python-Algorithms',\n",
              "  'iris_predictor_web_app',\n",
              "  'wavesurfer.js\\n\\n\\n          Forked from katspaugh/wavesurfer.js',\n",
              "  'Lane-Detection-With-Image-Processing',\n",
              "  'Recognize-Handwritten-Digits',\n",
              "  'Object-Detection-with-YOLO',\n",
              "  'Face-Mask-Detection',\n",
              "  'veri_bilimi_ve_makine_ogrenmesi',\n",
              "  'A-Movie-App-With-React-And-Graphql',\n",
              "  'ant-design\\n\\n\\n          Forked from ant-design/ant-design',\n",
              "  'pandas-dokumantasyonu',\n",
              "  'PHP-Projects',\n",
              "  'phpEmailSystem',\n",
              "  'ReactJS-Projects'],\n",
              " 'rule_86ck': ['Jupyter Notebook',\n",
              "  'Python',\n",
              "  'Python',\n",
              "  'HTML',\n",
              "  'JavaScript',\n",
              "  'Python',\n",
              "  'JavaScript',\n",
              "  'JavaScript',\n",
              "  'Jupyter Notebook',\n",
              "  'Python',\n",
              "  'HTML',\n",
              "  'Python',\n",
              "  'Python',\n",
              "  'CSS',\n",
              "  'Python',\n",
              "  'Python',\n",
              "  'Jupyter Notebook',\n",
              "  'JavaScript',\n",
              "  'Python',\n",
              "  'Jupyter Notebook',\n",
              "  'Python',\n",
              "  'Python',\n",
              "  'Jupyter Notebook',\n",
              "  'JavaScript',\n",
              "  'TypeScript',\n",
              "  'Jupyter Notebook',\n",
              "  'PHP',\n",
              "  'PHP',\n",
              "  'JavaScript'],\n",
              " 'rule_eswb': ['Sources', 'Jupyter Notebook', 'Stars'],\n",
              " 'rule_fzr9': ['Jupyter Notebook',\n",
              "  'Python',\n",
              "  'Python',\n",
              "  'HTML',\n",
              "  'JavaScript',\n",
              "  'Python',\n",
              "  'JavaScript',\n",
              "  'JavaScript',\n",
              "  'Jupyter Notebook',\n",
              "  'Python',\n",
              "  'HTML',\n",
              "  'Python',\n",
              "  'Python',\n",
              "  'CSS',\n",
              "  'Python',\n",
              "  'Python',\n",
              "  'Jupyter Notebook',\n",
              "  'JavaScript',\n",
              "  'Python',\n",
              "  'Jupyter Notebook',\n",
              "  'Python',\n",
              "  'Python',\n",
              "  'Jupyter Notebook',\n",
              "  'JavaScript',\n",
              "  'TypeScript',\n",
              "  'Jupyter Notebook',\n",
              "  'PHP',\n",
              "  'PHP',\n",
              "  'JavaScript'],\n",
              " 'rule_lfw7': ['Jupyter Notebook',\n",
              "  'Python',\n",
              "  'Python',\n",
              "  'HTML',\n",
              "  'JavaScript',\n",
              "  'Python',\n",
              "  'JavaScript',\n",
              "  'JavaScript',\n",
              "  'Jupyter Notebook',\n",
              "  'Python',\n",
              "  'HTML',\n",
              "  'Python',\n",
              "  'Python',\n",
              "  'CSS',\n",
              "  'Python',\n",
              "  'Python',\n",
              "  'Jupyter Notebook',\n",
              "  'JavaScript',\n",
              "  'Python',\n",
              "  'Jupyter Notebook',\n",
              "  'Python',\n",
              "  'Python',\n",
              "  'Jupyter Notebook',\n",
              "  'JavaScript',\n",
              "  'TypeScript',\n",
              "  'Jupyter Notebook',\n",
              "  'PHP',\n",
              "  'PHP',\n",
              "  'JavaScript'],\n",
              " 'rule_xwfr': ['Jupyter Notebook',\n",
              "  'Python',\n",
              "  'Python',\n",
              "  'HTML',\n",
              "  'JavaScript',\n",
              "  'Python',\n",
              "  'JavaScript',\n",
              "  'JavaScript',\n",
              "  'Jupyter Notebook',\n",
              "  'Python',\n",
              "  'HTML',\n",
              "  'Python',\n",
              "  'Python',\n",
              "  'CSS',\n",
              "  'Python',\n",
              "  'Python',\n",
              "  'Jupyter Notebook',\n",
              "  'JavaScript',\n",
              "  'Python',\n",
              "  'Jupyter Notebook',\n",
              "  'Python',\n",
              "  'Python',\n",
              "  'Jupyter Notebook',\n",
              "  'JavaScript',\n",
              "  'TypeScript',\n",
              "  'Jupyter Notebook',\n",
              "  'PHP',\n",
              "  'PHP',\n",
              "  'JavaScript'],\n",
              " 'rule_ymlp': ['Jupyter Notebook',\n",
              "  'Python',\n",
              "  'Python',\n",
              "  'HTML',\n",
              "  'JavaScript',\n",
              "  'Python',\n",
              "  'JavaScript',\n",
              "  'JavaScript',\n",
              "  'Jupyter Notebook',\n",
              "  'Python',\n",
              "  'HTML',\n",
              "  'Python',\n",
              "  'Python',\n",
              "  'CSS',\n",
              "  'Python',\n",
              "  'Python',\n",
              "  'Jupyter Notebook',\n",
              "  'JavaScript',\n",
              "  'Python',\n",
              "  'Jupyter Notebook',\n",
              "  'Python',\n",
              "  'Python',\n",
              "  'Jupyter Notebook',\n",
              "  'JavaScript',\n",
              "  'TypeScript',\n",
              "  'Jupyter Notebook',\n",
              "  'PHP',\n",
              "  'PHP',\n",
              "  'JavaScript']}"
            ]
          },
          "metadata": {
            "tags": []
          },
          "execution_count": 16
        }
      ]
    },
    {
      "cell_type": "code",
      "metadata": {
        "id": "a-4_naaC7ARi"
      },
      "source": [
        "#change the indexes name and save it with name.\n",
        "scrap.set_rule_aliases({'rule_840l':'Repo','rule_3gaq':'Lang'})\n",
        "scrap.keep_rules(['rule_840l','rule_3gaq'])\n",
        "scrap.save('git_repo')"
      ],
      "execution_count": 20,
      "outputs": []
    },
    {
      "cell_type": "code",
      "metadata": {
        "id": "7kxiTplx-hlC"
      },
      "source": [
        "scrap.load('git_repo')\n",
        "result=scrap.get_result_similar(url,grouped=True,group_by_alias=True)"
      ],
      "execution_count": 24,
      "outputs": []
    },
    {
      "cell_type": "code",
      "metadata": {
        "colab": {
          "base_uri": "https://localhost:8080/"
        },
        "id": "DPD92WlN_Y1G",
        "outputId": "5e49369c-8fed-473f-cf77-9cba26e9500a"
      },
      "source": [
        "result['Repo']"
      ],
      "execution_count": 25,
      "outputs": [
        {
          "output_type": "execute_result",
          "data": {
            "text/plain": [
              "['Sport-With-AI',\n",
              " 'Furkan-Gulsen',\n",
              " 'face-classification',\n",
              " 'python-face-stabilization',\n",
              " 'Simple-Messaging-App-With-Node-And-Socket.io-',\n",
              " 'Realtime-Chat-With-User-And-Rooms',\n",
              " 'T-Rex-Game-with-CNN',\n",
              " 'Node.js-Passport-Login-System',\n",
              " 'authentication-with-jwt---node-and-mongo',\n",
              " 'pytorch-seq2seq\\n\\n\\n          Forked from bentrevett/pytorch-seq2seq',\n",
              " 'chatbot-with-pytorch',\n",
              " 'HTML-CSS-JAVASCRIPT',\n",
              " 'Blur-Detection-Web-App',\n",
              " 'social-distance-detection',\n",
              " 'codeblogger-social-website',\n",
              " 'Document-Scanner-Web-App',\n",
              " 'Python-Algorithms',\n",
              " 'iris_predictor_web_app',\n",
              " 'wavesurfer.js\\n\\n\\n          Forked from katspaugh/wavesurfer.js',\n",
              " 'Lane-Detection-With-Image-Processing',\n",
              " 'Recognize-Handwritten-Digits',\n",
              " 'Object-Detection-with-YOLO',\n",
              " 'Face-Mask-Detection',\n",
              " 'veri_bilimi_ve_makine_ogrenmesi',\n",
              " 'A-Movie-App-With-React-And-Graphql',\n",
              " 'ant-design\\n\\n\\n          Forked from ant-design/ant-design',\n",
              " 'pandas-dokumantasyonu',\n",
              " 'PHP-Projects',\n",
              " 'phpEmailSystem',\n",
              " 'ReactJS-Projects']"
            ]
          },
          "metadata": {
            "tags": []
          },
          "execution_count": 25
        }
      ]
    },
    {
      "cell_type": "code",
      "metadata": {
        "id": "y2hImjNWEx9m"
      },
      "source": [
        ""
      ],
      "execution_count": null,
      "outputs": []
    }
  ]
}